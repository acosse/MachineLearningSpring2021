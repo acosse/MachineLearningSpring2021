{
 "cells": [
  {
   "cell_type": "markdown",
   "metadata": {},
   "source": [
    "## Week 5: Introduction to neural Networks"
   ]
  },
  {
   "cell_type": "markdown",
   "metadata": {},
   "source": [
    "### Perceptron learning rule"
   ]
  },
  {
   "cell_type": "markdown",
   "metadata": {},
   "source": [
    "This week, we will start working with neural networks. For each of the exercises below you can use the method of your choice but you should display the final boundary of your classifier."
   ]
  },
  {
   "cell_type": "markdown",
   "metadata": {},
   "source": [
    "#### Exercise 1. \n",
    "As a first exercise, load the binary dataset below and code a few steps of the perceptron learning rule. "
   ]
  },
  {
   "cell_type": "code",
   "execution_count": 13,
   "metadata": {},
   "outputs": [
    {
     "data": {
      "image/png": "[encoded data removed]",
      "text/plain": [
       "<Figure size 432x288 with 1 Axes>"
      ]
     },
     "metadata": {
      "needs_background": "light"
     },
     "output_type": "display_data"
    },
    {
     "data": {
      "image/png": "[encoded data removed]",
      "text/plain": [
       "<Figure size 432x288 with 1 Axes>"
      ]
     },
     "metadata": {
      "needs_background": "light"
     },
     "output_type": "display_data"
    }
   ],
   "source": [
    "import scipy.io as sio\n",
    "\n",
    "from matplotlib.colors import ListedColormap\n",
    "cm_bright = ListedColormap(['#0000FF', '#FF0000'])\n",
    "\n",
    "data1 = sio.loadmat('perceptron_data_class1.mat')\n",
    "data2 = sio.loadmat('perceptron_data_class2.mat')\n",
    "\n",
    "data1 = data1['perceptron_data_class1']\n",
    "data2 = data2['perceptron_data_class2']\n",
    "\n",
    "# put your code here\n",
    "\n",
    "import matplotlib.pyplot as plt\n",
    "import numpy as np\n",
    "\n",
    "plt.scatter(data1[:,0], data1[:,1], c='r')\n",
    "plt.scatter(data2[:,0], data2[:,1], c='b')\n",
    "plt.show()\n",
    "\n",
    "\n",
    "# -sum_{misclassified points} t^(i) (beta_0+ beta_1x_1^i + beta_2x_2^i)\n",
    "\n",
    "# loop over the misclassified samples beta^{k+1} <-- beta^k + eta*...\n",
    "\n",
    "\n",
    "target1 = np.ones((np.shape(data1)[0], 1))\n",
    "target2 = -np.ones((np.shape(data2)[0],1))\n",
    "\n",
    "target = np.vstack((target1, target2))\n",
    "\n",
    "data = np.vstack((data1, data2))\n",
    "\n",
    "center_of_mass = np.mean(data, axis=0)\n",
    "\n",
    "center_of_mass = np.expand_dims(center_of_mass,1)\n",
    "\n",
    "centered_data = data - np.matmul(np.ones((np.shape(data)[0],1)), \\\n",
    "                                 center_of_mass.T)\n",
    "\n",
    "\n",
    "\n",
    "Nclass1 = np.shape(data1)[0] \n",
    "Nclass2 = np.shape(data2)[0] \n",
    "\n",
    "centered_data1 = centered_data[:Nclass1,:]\n",
    "centered_data2 = centered_data[Nclass1:,:]\n",
    "\n",
    "# centered_data contains all the centered points (N1+N2)\n",
    "\n",
    "plt.scatter(centered_data[:Nclass1,0], \\\n",
    "            centered_data[:Nclass1,1], c='r')\n",
    "plt.scatter(centered_data[Nclass1:Nclass1+Nclass2-1,0], \\\n",
    "            centered_data[Nclass1:Nclass1+Nclass2-1,1], c='b')\n",
    "plt.show()\n",
    "\n"
   ]
  },
  {
   "cell_type": "code",
   "execution_count": 14,
   "metadata": {},
   "outputs": [
    {
     "name": "stdout",
     "output_type": "stream",
     "text": [
      "[[1.42793758]\n",
      " [0.18868155]]\n"
     ]
    },
    {
     "data": {
      "image/png": "[encoded data removed]",
      "text/plain": [
       "<Figure size 432x288 with 1 Axes>"
      ]
     },
     "metadata": {
      "needs_background": "light"
     },
     "output_type": "display_data"
    }
   ],
   "source": [
    "\n",
    "beta = np.random.normal(0, 1, (2,1))\n",
    "print(beta)\n",
    "\n",
    "beta0 = 0\n",
    "\n",
    "beta = np.vstack((beta0,beta))\n",
    "\n",
    "\n",
    "x1min = np.min(centered_data[:,0])\n",
    "x1max = np.max(centered_data[:,0])\n",
    "\n",
    "x2min = np.min(centered_data[:,1])\n",
    "x2max = np.max(centered_data[:,1])\n",
    "\n",
    "xx, yy = np.meshgrid(np.linspace(x1min, x1max, 100), np.linspace(x2min, x2max, 100))\n",
    "\n",
    "\n",
    "\n",
    "Xtilde_tmp = np.hstack((np.expand_dims(xx.flatten(),1), np.expand_dims(yy.flatten(),1)))\n",
    "\n",
    "Xtilde = np.hstack((np.ones((len(xx.flatten()),1)) ,Xtilde_tmp))\n",
    "\n",
    "prediction = np.matmul(Xtilde, beta)\n",
    "\n",
    "# short trick to turn the real prediction into a +1/-1 value\n",
    "# if prediction is >0 then (prediction>0) = 1 ==> 2(prediction>0) -1 = 1\n",
    "# if prediction is <0 then (prediction>0) = 0 ==> 2(prediction>0)-1 = -1\n",
    "\n",
    "final_prediction = (prediction > 0) *2 -1\n",
    "\n",
    "\n",
    "plt.scatter(centered_data[:Nclass1,0], \\\n",
    "            centered_data[:Nclass1,1], c='r')\n",
    "plt.scatter(centered_data[Nclass1:Nclass1+Nclass2-1,0], \\\n",
    "            centered_data[Nclass1:Nclass1+Nclass2-1,1], c='b')\n",
    "plt.contourf(xx, yy, np.reshape(final_prediction, \\\n",
    "                                np.shape(xx)), levels = 2,alpha=0.2, cmap=cm_bright)\n",
    "plt.show()"
   ]
  },
  {
   "cell_type": "code",
   "execution_count": 10,
   "metadata": {},
   "outputs": [],
   "source": [
    "target = np.squeeze(target)\n",
    "beta = np.squeeze(beta)\n",
    "\n",
    "dataTilde = np.hstack((np.ones((np.shape(data)[0],1)), centered_data))\n",
    "\n",
    "predicted_target_trainingData_tmp = np.matmul(dataTilde, beta)\n",
    "\n",
    "\n",
    "predicted_target_trainingData = \\\n",
    "(predicted_target_trainingData_tmp > 0) *2 -1\n"
   ]
  },
  {
   "cell_type": "code",
   "execution_count": 7,
   "metadata": {},
   "outputs": [
    {
     "data": {
      "image/png": "[encoded data removed]",
      "text/plain": [
       "<Figure size 432x288 with 1 Axes>"
      ]
     },
     "metadata": {
      "needs_background": "light"
     },
     "output_type": "display_data"
    }
   ],
   "source": [
    "misclassified_points = \\\n",
    "centered_data[np.squeeze(np.not_equal(target, \\\n",
    "                             predicted_target_trainingData)),:]\n",
    "\n",
    "misclassified_targets = target[np.squeeze(np.not_equal(target, \\\n",
    "                             predicted_target_trainingData))]\n",
    "\n",
    "xi = misclassified_points[0,:]\n",
    "ti = misclassified_targets[0]\n",
    "xitilde = np.hstack((1, xi))\n",
    "\n",
    "lr = 0.1\n",
    "\n",
    "\n",
    "beta = np.add(beta,lr*ti*xitilde)\n",
    "\n",
    "prediction = np.matmul(Xtilde, beta)\n",
    "final_prediction = (prediction > 0) *2 -1\n",
    "plt.scatter(centered_data[:Nclass1,0], \\\n",
    "            centered_data[:Nclass1,1], c='r')\n",
    "plt.scatter(centered_data[Nclass1:Nclass1+Nclass2-1,0], \\\n",
    "            centered_data[Nclass1:Nclass1+Nclass2-1,1], c='b')\n",
    "plt.contourf(xx, yy, np.reshape(final_prediction, \\\n",
    "                                np.shape(xx)), levels = 2,alpha=0.2, cmap=cm_bright)\n",
    "plt.show()\n"
   ]
  },
  {
   "cell_type": "code",
   "execution_count": 81,
   "metadata": {},
   "outputs": [
    {
     "data": {
      "text/plain": [
       "0"
      ]
     },
     "execution_count": 81,
     "metadata": {},
     "output_type": "execute_result"
    }
   ],
   "source": [
    "A = np.ones((10,1))\n",
    "ind = A==0\n",
    "len(A[ind])"
   ]
  },
  {
   "cell_type": "code",
   "execution_count": 90,
   "metadata": {},
   "outputs": [],
   "source": [
    "max_iter = 20\n",
    "\n",
    "predicted_target_trainingData_tmp = np.matmul(dataTilde, beta)\n",
    "\n",
    "predicted_target_trainingData = \\\n",
    "(predicted_target_trainingData_tmp > 0) *2 -1\n",
    "misclassified_points = \\\n",
    "centered_data[np.squeeze(np.not_equal(target, \\\n",
    "                         predicted_target_trainingData)),:]\n",
    "\n",
    "misclassified_targets = target[np.squeeze(np.not_equal(target, \\\n",
    "                         predicted_target_trainingData))]\n",
    "\n",
    "while(len(misclassified_targets)>0):\n",
    "    \n",
    "    xi = misclassified_points[0,:]\n",
    "    ti = misclassified_targets[0]\n",
    "    xitilde = np.hstack((1, xi))\n",
    "\n",
    "    lr = 0.1\n",
    "    beta = np.add(beta,lr*ti*xitilde)\n",
    "    \n",
    "    predicted_target_trainingData_tmp = np.matmul(dataTilde, beta)\n",
    "\n",
    "    predicted_target_trainingData = \\\n",
    "    (predicted_target_trainingData_tmp > 0) *2 -1\n",
    "    misclassified_points = \\\n",
    "    centered_data[np.squeeze(np.not_equal(target, \\\n",
    "                             predicted_target_trainingData)),:]\n",
    "    \n",
    "    misclassified_targets = target[np.squeeze(np.not_equal(target, \\\n",
    "                             predicted_target_trainingData))]\n",
    "    "
   ]
  },
  {
   "cell_type": "code",
   "execution_count": 84,
   "metadata": {},
   "outputs": [
    {
     "name": "stdout",
     "output_type": "stream",
     "text": [
      "[]\n"
     ]
    }
   ],
   "source": [
    "print(misclassified_targets)"
   ]
  },
  {
   "cell_type": "code",
   "execution_count": 91,
   "metadata": {},
   "outputs": [
    {
     "data": {
      "image/png": "[encoded data removed]",
      "text/plain": [
       "<Figure size 432x288 with 1 Axes>"
      ]
     },
     "metadata": {
      "needs_background": "light"
     },
     "output_type": "display_data"
    }
   ],
   "source": [
    "prediction = np.matmul(Xtilde, beta)\n",
    "final_prediction = (prediction > 0) *2 -1\n",
    "plt.scatter(centered_data[:Nclass1,0], \\\n",
    "            centered_data[:Nclass1,1], c='r')\n",
    "plt.scatter(centered_data[Nclass1:Nclass1+Nclass2-1,0], \\\n",
    "            centered_data[Nclass1:Nclass1+Nclass2-1,1], c='b')\n",
    "plt.contourf(xx, yy, np.reshape(final_prediction, \\\n",
    "                                np.shape(xx)), levels = 2,alpha = 0.2)\n",
    "plt.show()"
   ]
  },
  {
   "cell_type": "markdown",
   "metadata": {},
   "source": [
    "#### Exercise 2.\n",
    "\n",
    "__2a.__ Load the data below. Using the neural_network module from scikit-learn and its MLPClassifier model, learn a classifier, for the dataset below using \n",
    "\n",
    "- One hidden layer with a linear activation function and \n",
    "    - One neuron\n",
    "    - Two neurons\n",
    "    \n",
    "    \n",
    "    \n",
    "- One hidden layer with a non linear activation function (take Relu for example or a binary step)\n",
    "    - One neuron\n",
    "    - Two neurons\n",
    "\n",
    "How many neurons, hidden layers do you need to learn the distribution of the data? Do you have an idea why?\n",
    "\n",
    "Try increasing the number of neurons and hidden layers. Then try different values of the learning rate. \n"
   ]
  },
  {
   "cell_type": "code",
   "execution_count": 93,
   "metadata": {},
   "outputs": [
    {
     "data": {
      "image/png": "[encoded data removed]",
      "text/plain": [
       "<Figure size 432x288 with 1 Axes>"
      ]
     },
     "metadata": {
      "needs_background": "light"
     },
     "output_type": "display_data"
    }
   ],
   "source": [
    "import scipy.io as sio\n",
    "data1 = sio.loadmat('neural_net_class1.mat')\n",
    "data2 = sio.loadmat('neural_net_class2.mat')\n",
    "\n",
    "data1 = data1['neural_net_class1']\n",
    "data2 = data2['neural_net_class2']\n",
    "\n",
    "from sklearn.neural_network import MLPClassifier\n",
    "\n",
    "# put your code here\n",
    "\n",
    "\n",
    "plt.scatter(data1[:,0], data1[:,1], c='r')\n",
    "plt.scatter(data2[:,0], data2[:,1], c='b')\n",
    "plt.show()"
   ]
  },
  {
   "cell_type": "code",
   "execution_count": 95,
   "metadata": {},
   "outputs": [
    {
     "name": "stdout",
     "output_type": "stream",
     "text": [
      "(172, 1)\n",
      "(195, 1)\n"
     ]
    }
   ],
   "source": [
    "print(np.shape(target1))\n",
    "print(np.shape(target2))"
   ]
  },
  {
   "cell_type": "code",
   "execution_count": 109,
   "metadata": {},
   "outputs": [
    {
     "name": "stderr",
     "output_type": "stream",
     "text": [
      "/opt/anaconda3/lib/python3.8/site-packages/sklearn/utils/validation.py:72: DataConversionWarning: A column-vector y was passed when a 1d array was expected. Please change the shape of y to (n_samples, ), for example using ravel().\n",
      "  return f(**kwargs)\n"
     ]
    },
    {
     "data": {
      "image/png": "[encoded data removed]",
      "text/plain": [
       "<Figure size 432x288 with 1 Axes>"
      ]
     },
     "metadata": {
      "needs_background": "light"
     },
     "output_type": "display_data"
    }
   ],
   "source": [
    "data = np.vstack((data1, data2))\n",
    "target1 = np.ones((np.shape(data1)[0],1))\n",
    "target2 = np.zeros((np.shape(data2)[0],1))\n",
    "\n",
    "target = np.vstack((target1, target2))\n",
    "\n",
    "\n",
    "\n",
    "from sklearn.neural_network import MLPClassifier\n",
    "from matplotlib.colors import ListedColormap\n",
    "cm_bright = ListedColormap(['#FF0000', '#0000FF'])\n",
    "\n",
    "my_classifier = MLPClassifier(max_iter=1000, \\\n",
    "                              hidden_layer_sizes = (1,), \\\n",
    "                              activation = 'logistic', solver = 'lbfgs')\n",
    "my_classifier.fit(data, target)\n",
    "\n",
    "\n",
    "x1min = np.min(data[:,0])\n",
    "x1max = np.max(data[:,0])\n",
    "x2min = np.min(data[:,1])\n",
    "x2max = np.max(data[:,1])\n",
    "\n",
    "xx, yy = np.meshgrid(np.linspace(x1min,x1max, 100), np.linspace(x2min, x2max, 100))\n",
    "\n",
    "Xprediction = np.vstack((xx.flatten(), yy.flatten()))\n",
    "Xprediction = Xprediction.T\n",
    "predicted_targets = my_classifier.predict(Xprediction)\n",
    "\n",
    "plt.scatter(data1[:,0], data1[:,1], c='r')\n",
    "plt.scatter(data2[:,0], data2[:,1], c='b')\n",
    "plt.contourf(xx, yy, np.reshape(predicted_targets>0.5, np.shape(xx)), levels = 2,alpha=0.2, cmap=cm_bright)\n",
    "plt.show()\n",
    "\n"
   ]
  },
  {
   "cell_type": "code",
   "execution_count": 115,
   "metadata": {},
   "outputs": [
    {
     "name": "stderr",
     "output_type": "stream",
     "text": [
      "/opt/anaconda3/lib/python3.8/site-packages/sklearn/utils/validation.py:72: DataConversionWarning: A column-vector y was passed when a 1d array was expected. Please change the shape of y to (n_samples, ), for example using ravel().\n",
      "  return f(**kwargs)\n",
      "/opt/anaconda3/lib/python3.8/site-packages/sklearn/neural_network/_multilayer_perceptron.py:471: ConvergenceWarning: lbfgs failed to converge (status=1):\n",
      "STOP: TOTAL NO. of ITERATIONS REACHED LIMIT.\n",
      "\n",
      "Increase the number of iterations (max_iter) or scale the data as shown in:\n",
      "    https://scikit-learn.org/stable/modules/preprocessing.html\n",
      "  self.n_iter_ = _check_optimize_result(\"lbfgs\", opt_res, self.max_iter)\n"
     ]
    },
    {
     "data": {
      "image/png": "[encoded data removed]",
      "text/plain": [
       "<Figure size 432x288 with 1 Axes>"
      ]
     },
     "metadata": {
      "needs_background": "light"
     },
     "output_type": "display_data"
    }
   ],
   "source": [
    "from sklearn.neural_network import MLPClassifier\n",
    "from matplotlib.colors import ListedColormap\n",
    "cm_bright = ListedColormap(['#0000FF', '#FF0000'])\n",
    "\n",
    "my_classifier = MLPClassifier(max_iter=2000, \\\n",
    "                              hidden_layer_sizes = (50,50), \\\n",
    "                              activation = 'logistic', solver = 'lbfgs', alpha = .1)\n",
    "my_classifier.fit(data, target)\n",
    "\n",
    "\n",
    "x1min = np.min(data[:,0])\n",
    "x1max = np.max(data[:,0])\n",
    "x2min = np.min(data[:,1])\n",
    "x2max = np.max(data[:,1])\n",
    "\n",
    "xx, yy = np.meshgrid(np.linspace(x1min,x1max, 100), np.linspace(x2min, x2max, 100))\n",
    "\n",
    "Xprediction = np.vstack((xx.flatten(), yy.flatten()))\n",
    "Xprediction = Xprediction.T\n",
    "predicted_targets = my_classifier.predict(Xprediction)\n",
    "\n",
    "plt.scatter(data1[:,0], data1[:,1], c='r')\n",
    "plt.scatter(data2[:,0], data2[:,1], c='b')\n",
    "plt.contourf(xx, yy, np.reshape(predicted_targets>0.5, np.shape(xx)), levels = 2,alpha=0.2, cmap=cm_bright)\n",
    "plt.show()\n"
   ]
  },
  {
   "cell_type": "markdown",
   "metadata": {},
   "source": [
    "__2b.__ Keep the dataset from above. try to change the intialization of the training algorithm. Plot the resulting classifier for a couple of different initializations. What do you see?\n",
    "\n",
    "Do it for a small network first. Then repeat those experiments for larger architectures. I.e. increase the number of neurons and the number of layers. What do you see when you change the initialization?\n"
   ]
  },
  {
   "cell_type": "code",
   "execution_count": null,
   "metadata": {
    "collapsed": true
   },
   "outputs": [],
   "source": [
    "\n",
    "# put your code here"
   ]
  },
  {
   "cell_type": "markdown",
   "metadata": {},
   "source": [
    "#### Exercise 3. \n",
    "\n",
    "__3a.__Load the data below. Try to build the best neural network you can for this dataset. Split the data between a training and a test set and evaluate the models you built. What is the best validation error you can get?\n"
   ]
  },
  {
   "cell_type": "code",
   "execution_count": 116,
   "metadata": {},
   "outputs": [
    {
     "data": {
      "image/png": "[encoded data removed]",
      "text/plain": [
       "<Figure size 432x288 with 1 Axes>"
      ]
     },
     "metadata": {
      "needs_background": "light"
     },
     "output_type": "display_data"
    }
   ],
   "source": [
    "\n",
    "import scipy.io as sio\n",
    "data1 = sio.loadmat('neural_net_ex2_class1.mat')\n",
    "data2 = sio.loadmat('neural_net_ex2_class2.mat')\n",
    "\n",
    "data1 = data1['neural_net_ex2_class1']\n",
    "data2 = data2['neural_net_ex2_class2']\n",
    "\n",
    "from sklearn.neural_network import MLPClassifier\n",
    "\n",
    "\n",
    "\n",
    "plt.scatter(data1[:,0], data1[:,1], c='r')\n",
    "plt.scatter(data2[:,0], data2[:,1], c='b')\n",
    "plt.show()\n",
    "\n",
    "# put your code here"
   ]
  },
  {
   "cell_type": "code",
   "execution_count": 122,
   "metadata": {},
   "outputs": [
    {
     "name": "stderr",
     "output_type": "stream",
     "text": [
      "/opt/anaconda3/lib/python3.8/site-packages/sklearn/utils/validation.py:72: DataConversionWarning: A column-vector y was passed when a 1d array was expected. Please change the shape of y to (n_samples, ), for example using ravel().\n",
      "  return f(**kwargs)\n",
      "/opt/anaconda3/lib/python3.8/site-packages/sklearn/neural_network/_multilayer_perceptron.py:471: ConvergenceWarning: lbfgs failed to converge (status=1):\n",
      "STOP: TOTAL NO. of f AND g EVALUATIONS EXCEEDS LIMIT.\n",
      "\n",
      "Increase the number of iterations (max_iter) or scale the data as shown in:\n",
      "    https://scikit-learn.org/stable/modules/preprocessing.html\n",
      "  self.n_iter_ = _check_optimize_result(\"lbfgs\", opt_res, self.max_iter)\n"
     ]
    }
   ],
   "source": [
    "data = np.vstack((data1, data2))\n",
    "target1 = np.ones((np.shape(data1)[0],1))\n",
    "target2 = np.zeros((np.shape(data2)[0],1))\n",
    "\n",
    "target = np.vstack((target1, target2))\n",
    "\n",
    "from sklearn.neural_network import MLPClassifier\n",
    "from matplotlib.colors import ListedColormap\n",
    "\n",
    "my_classifier = MLPClassifier(max_iter=40000, \\\n",
    "                              hidden_layer_sizes = (100,100), \\\n",
    "                              activation = 'tanh', solver = 'lbfgs', alpha=0.15)\n",
    "my_classifier.fit(data, target)\n",
    "\n",
    "\n",
    "x1min = np.min(data[:,0])\n",
    "x1max = np.max(data[:,0])\n",
    "x2min = np.min(data[:,1])\n",
    "x2max = np.max(data[:,1])\n",
    "\n",
    "xx, yy = np.meshgrid(np.linspace(x1min,x1max, 100), np.linspace(x2min, x2max, 100))\n",
    "\n",
    "Xprediction = np.vstack((xx.flatten(), yy.flatten()))\n",
    "Xprediction = Xprediction.T\n",
    "predicted_targets = my_classifier.predict(Xprediction)\n",
    "\n",
    "\n"
   ]
  },
  {
   "cell_type": "code",
   "execution_count": 123,
   "metadata": {},
   "outputs": [
    {
     "data": {
      "image/png": "[encoded data removed]",
      "text/plain": [
       "<Figure size 432x288 with 1 Axes>"
      ]
     },
     "metadata": {
      "needs_background": "light"
     },
     "output_type": "display_data"
    }
   ],
   "source": [
    "cm_bright = ListedColormap(['#0000FF', '#FF0000'])\n",
    "\n",
    "plt.scatter(data1[:,0], data1[:,1], c='r')\n",
    "plt.scatter(data2[:,0], data2[:,1], c='b')\n",
    "plt.contourf(xx, yy, np.reshape(predicted_targets>0.5, np.shape(xx)), levels = 2,alpha=0.2, cmap=cm_bright)\n",
    "plt.show()"
   ]
  },
  {
   "cell_type": "markdown",
   "metadata": {},
   "source": [
    "\n",
    "__3b.__ With the same dataset, add additional features to your model, e.g. $\\sin(x), \\sin(y)$ or other monomials. Can you improve your classifier ?"
   ]
  },
  {
   "cell_type": "code",
   "execution_count": null,
   "metadata": {
    "collapsed": true
   },
   "outputs": [],
   "source": [
    "# put your code here\n",
    "\n",
    "\n"
   ]
  }
 ],
 "metadata": {
  "kernelspec": {
   "display_name": "Python 3",
   "language": "python",
   "name": "python3"
  },
  "language_info": {
   "codemirror_mode": {
    "name": "ipython",
    "version": 3
   },
   "file_extension": ".py",
   "mimetype": "text/x-python",
   "name": "python",
   "nbconvert_exporter": "python",
   "pygments_lexer": "ipython3",
   "version": "3.8.5"
  }
 },
 "nbformat": 4,
 "nbformat_minor": 2
}
