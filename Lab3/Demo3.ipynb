{
 "cells": [
  {
   "cell_type": "code",
   "execution_count": 2,
   "metadata": {},
   "outputs": [
    {
     "name": "stdout",
     "output_type": "stream",
     "text": [
      "[0 2 2 0 1 0 2 2 2 1 2 1 2 1 2 0 0 2 1 1 2 0 1 1 0 0 0 1 0 1]\n"
     ]
    }
   ],
   "source": [
    "from sklearn.datasets import make_blobs\n",
    "import numpy as np\n",
    "\n",
    "\n",
    "X, y = make_blobs(n_samples=30, centers=3, n_features=2)\n",
    "\n",
    "import matplotlib.pyplot as plt\n",
    "\n",
    "\n",
    "#plt.scatter(X[:,0], X[:,1], c=)\n",
    "print(y)\n",
    "\n",
    "from sklearn.preprocessing import OneHotEncoder\n",
    "\n",
    "enc = OneHotEncoder()\n",
    "enc.fit(y.reshape(-1,1))\n",
    "T = enc.transform(y.reshape(-1,1)).toarray()\n",
    "T = np.array(T)"
   ]
  },
  {
   "cell_type": "code",
   "execution_count": 3,
   "metadata": {},
   "outputs": [
    {
     "data": {
      "text/plain": [
       "(30, 3)"
      ]
     },
     "execution_count": 3,
     "metadata": {},
     "output_type": "execute_result"
    }
   ],
   "source": [
    "np.shape(np.array(T))"
   ]
  },
  {
   "cell_type": "code",
   "execution_count": 5,
   "metadata": {},
   "outputs": [
    {
     "name": "stdout",
     "output_type": "stream",
     "text": [
      "[[ 0.46983307  0.04162511  0.48854183]\n",
      " [-0.03908241 -0.03920576  0.07828817]\n",
      " [ 0.07301048 -0.08856858  0.0155581 ]]\n"
     ]
    }
   ],
   "source": [
    "import numpy as np\n",
    "from numpy.linalg import inv\n",
    "\n",
    "Xtilde = np.hstack((np.ones((np.shape(X)[0],1)), X))\n",
    "\n",
    "XX = np.matmul(Xtilde.T, Xtilde)\n",
    "XT = np.matmul(Xtilde.T, T)\n",
    "\n",
    "Beta = np.matmul(inv(XX), XT)\n",
    "print(Beta)"
   ]
  },
  {
   "cell_type": "code",
   "execution_count": 6,
   "metadata": {},
   "outputs": [
    {
     "data": {
      "image/png": "[encoded data removed]",
      "text/plain": [
       "<Figure size 432x288 with 1 Axes>"
      ]
     },
     "metadata": {
      "needs_background": "light"
     },
     "output_type": "display_data"
    }
   ],
   "source": [
    "plt.scatter(X[:,0], X[:,1], c = y)\n",
    "plt.show()"
   ]
  },
  {
   "cell_type": "code",
   "execution_count": 26,
   "metadata": {},
   "outputs": [
    {
     "name": "stdout",
     "output_type": "stream",
     "text": [
      "(3, 10000)\n"
     ]
    },
    {
     "data": {
      "image/png": "[encoded data removed]",
      "text/plain": [
       "<Figure size 432x288 with 1 Axes>"
      ]
     },
     "metadata": {
      "needs_background": "light"
     },
     "output_type": "display_data"
    }
   ],
   "source": [
    "import numpy as np\n",
    "\n",
    "x1min = np.min(X[:,0])\n",
    "x1max = np.max(X[:,0])\n",
    "x2min = np.min(X[:,1])\n",
    "x2max = np.max(X[:,1])\n",
    "\n",
    "xx1, xx2 = np.meshgrid(np.linspace(x1min, x1max, 100), np.linspace(x2min, x2max, 100))\n",
    "\n",
    "Xpredict = np.vstack((xx1.flatten(), xx2.flatten())).T\n",
    "\n",
    "XtildePredict = np.hstack((np.ones((np.shape(Xpredict)[0],1)), Xpredict))\n",
    "\n",
    "prediction = np.matmul(Beta.T,XtildePredict.T) \n",
    "print(np.shape(prediction))\n",
    "\n",
    "predictedTargets = np.zeros((len(xx1.flatten()), 1))\n",
    "\n",
    "for i in range(len(xx1.flatten())):\n",
    "    \n",
    "    predictedTargets[i] = np.argmax(prediction[:,i])\n",
    "    \n",
    "\n",
    "    \n",
    "    \n",
    "plt.scatter(X[:,0], X[:,1], c = y)\n",
    "plt.contourf(xx1, xx2, np.reshape(predictedTargets,np.shape(xx1)), alpha = .3)\n",
    "plt.show()"
   ]
  },
  {
   "cell_type": "code",
   "execution_count": null,
   "metadata": {},
   "outputs": [],
   "source": []
  },
  {
   "cell_type": "code",
   "execution_count": 42,
   "metadata": {},
   "outputs": [
    {
     "name": "stdout",
     "output_type": "stream",
     "text": [
      "(01)\n"
     ]
    },
    {
     "ename": "ValueError",
     "evalue": "could not broadcast input array from shape (10000,1) into shape (10000)",
     "output_type": "error",
     "traceback": [
      "\u001b[0;31m---------------------------------------------------------------------------\u001b[0m",
      "\u001b[0;31mValueError\u001b[0m                                Traceback (most recent call last)",
      "\u001b[0;32m<ipython-input-42-8f8ea4759ed9>\u001b[0m in \u001b[0;36m<module>\u001b[0;34m\u001b[0m\n\u001b[1;32m     63\u001b[0m             \u001b[0mtarget_final_ij\u001b[0m\u001b[0;34m[\u001b[0m\u001b[0mTest_indices_j\u001b[0m\u001b[0;34m]\u001b[0m \u001b[0;34m=\u001b[0m \u001b[0mj\u001b[0m\u001b[0;34m\u001b[0m\u001b[0;34m\u001b[0m\u001b[0m\n\u001b[1;32m     64\u001b[0m \u001b[0;34m\u001b[0m\u001b[0m\n\u001b[0;32m---> 65\u001b[0;31m             \u001b[0mPredictionMatrix\u001b[0m\u001b[0;34m[\u001b[0m\u001b[0;34m:\u001b[0m\u001b[0;34m,\u001b[0m\u001b[0mcounter\u001b[0m\u001b[0;34m]\u001b[0m \u001b[0;34m=\u001b[0m \u001b[0mtarget_final_ij\u001b[0m\u001b[0;34m\u001b[0m\u001b[0;34m\u001b[0m\u001b[0m\n\u001b[0m\u001b[1;32m     66\u001b[0m \u001b[0;34m\u001b[0m\u001b[0m\n\u001b[1;32m     67\u001b[0m \u001b[0;34m\u001b[0m\u001b[0m\n",
      "\u001b[0;31mValueError\u001b[0m: could not broadcast input array from shape (10000,1) into shape (10000)"
     ]
    }
   ],
   "source": [
    "# one vs one \n",
    "\n",
    "num_classes = max(y)+1\n",
    "\n",
    "\n",
    "from __future__ import division\n",
    "\n",
    "\n",
    "\n",
    "num_classifiers = int(num_classes*(num_classes-1)/2)\n",
    "\n",
    "## generating the grid for the final display\n",
    "x1min = np.min(X[:,0])\n",
    "x1max = np.max(X[:,0])\n",
    "x2min = np.min(X[:,1])\n",
    "x2max = np.max(X[:,1])\n",
    "\n",
    "xx1, xx2 = np.meshgrid(np.linspace(x1min, x1max, 100), np.linspace(x2min, x2max, 100))\n",
    "\n",
    "Xpredict = np.vstack((xx1.flatten(), xx2.flatten())).T\n",
    "Xtilde_predict = np.hstack((np.ones((np.shape(Xpredict)[0],1)), Xpredict))\n",
    "\n",
    "\n",
    "PredictionMatrix = np.zeros((len(xx1.flatten()),num_classifiers))\n",
    "\n",
    "counter = 0\n",
    "\n",
    "for i in range(num_classes):\n",
    "    \n",
    "    for j in range(num_classes):\n",
    "        \n",
    "        if j> i:\n",
    "        \n",
    "            print('('+str(i)+str(j)+')')\n",
    "            \n",
    "            indices_i = np.squeeze(np.where(y==i))\n",
    "            indices_j = np.squeeze(np.where(y==j))\n",
    "            \n",
    "            points_classi = Xtilde[indices_i,:]\n",
    "            points_classj = Xtilde[indices_j,:]\n",
    "            \n",
    "            \n",
    "            Xtilde_ij = np.vstack((points_classi, points_classj))\n",
    "            \n",
    "            target_i = np.ones((len(indices_i),1))\n",
    "            target_j = np.zeros((len(indices_j),1))\n",
    "            \n",
    "            target_ij = np.vstack((target_i, target_j))\n",
    "            \n",
    "            # learning the plane\n",
    "            \n",
    "            XX = np.matmul(Xtilde_ij.T, Xtilde_ij)\n",
    "            XT = np.matmul(Xtilde_ij.T, target_ij)\n",
    "\n",
    "            beta_ij = np.matmul(inv(XX), XT)\n",
    "            \n",
    "            prediction_ij = np.matmul(Xtilde_predict, beta_ij)\n",
    "\n",
    "            target_final_ij = np.zeros((len(prediction_ij),1))\n",
    "            Test_indices_i = np.squeeze(np.where(prediction_ij>0.5))  \n",
    "            target_final_ij[Test_indices_i] = i\n",
    "            Test_indices_i = np.squeeze(np.where(prediction_ij<=0.5))  \n",
    "            target_final_ij[Test_indices_j] = j\n",
    "            \n",
    "            PredictionMatrix[:,counter] = target_final_ij\n",
    "        \n",
    "        \n",
    "            counter +=1\n",
    "        "
   ]
  },
  {
   "cell_type": "code",
   "execution_count": 68,
   "metadata": {},
   "outputs": [],
   "source": [
    "num_classes = max(y)+1\n",
    "\n",
    "\n",
    "from __future__ import division\n",
    "\n",
    "num_classifiers = int(num_classes*(num_classes-1)/2)\n",
    "\n",
    "PredictionMatrix = np.zeros((len(xx1.flatten()),num_classifiers))\n",
    "\n",
    "\n",
    "i=2\n",
    "j =0\n",
    "\n",
    "indices_i = np.squeeze(np.where(y==i))\n",
    "indices_j = np.squeeze(np.where(y==j))\n",
    "\n",
    "points_classi = Xtilde[indices_i,:]\n",
    "points_classj = Xtilde[indices_j,:]\n",
    "            \n",
    "            \n",
    "Xtilde_ij = np.vstack((points_classi, points_classj))\n",
    "\n",
    "target_i = np.ones((len(indices_i),1))\n",
    "target_j = np.zeros((len(indices_j),1))\n",
    "\n",
    "\n",
    "            \n",
    "target_ij = np.vstack((target_i, target_j))\n",
    "            \n",
    "# learning the plane\n",
    "\n",
    "XX = np.matmul(Xtilde_ij.T, Xtilde_ij)\n",
    "XT = np.matmul(Xtilde_ij.T, target_ij)\n",
    "\n",
    "beta_ij = np.matmul(inv(XX), XT)\n",
    "\n",
    "prediction_ij = np.matmul(XtildePredict, beta_ij)\n",
    "\n",
    "target_final_ij = np.zeros((len(prediction_ij),1))\n",
    "Test_indices_i = np.squeeze(np.where(prediction_ij>0))  \n",
    "target_final_ij[Test_indices_i] = i\n",
    "Test_indices_j = np.squeeze(np.where(prediction_ij<=0))  \n",
    "target_final_ij[Test_indices_j] = j\n",
    "\n",
    "PredictionMatrix[:,0] = np.squeeze(target_final_ij)\n",
    "\n"
   ]
  },
  {
   "cell_type": "code",
   "execution_count": 69,
   "metadata": {},
   "outputs": [
    {
     "data": {
      "image/png": "[encoded data removed]",
      "text/plain": [
       "<Figure size 432x288 with 1 Axes>"
      ]
     },
     "metadata": {
      "needs_background": "light"
     },
     "output_type": "display_data"
    }
   ],
   "source": [
    "   \n",
    "plt.scatter(X[:,0], X[:,1], c = y)\n",
    "plt.contourf(xx1, xx2, np.reshape(target_final_ij,np.shape(xx1)), alpha = .3)\n",
    "plt.show()"
   ]
  },
  {
   "cell_type": "code",
   "execution_count": 70,
   "metadata": {},
   "outputs": [],
   "source": [
    "num_classes = max(y)+1\n",
    "\n",
    "\n",
    "from __future__ import division\n",
    "\n",
    "num_classifiers = int(num_classes*(num_classes-1)/2)\n",
    "\n",
    "PredictionMatrix = np.zeros((len(xx1.flatten()),num_classifiers))\n",
    "\n",
    "\n",
    "i=2\n",
    "j =0\n",
    "\n",
    "indices_i = np.squeeze(np.where(y==i))\n",
    "indices_j = np.squeeze(np.where(y==j))\n",
    "\n",
    "points_classi = Xtilde[indices_i,:]\n",
    "points_classj = Xtilde[indices_j,:]\n",
    "            \n",
    "            \n",
    "Xtilde_ij = np.vstack((points_classi, points_classj))\n",
    "\n",
    "target_i = np.ones((len(indices_i),1))\n",
    "target_j = -np.ones((len(indices_j),1))\n",
    "\n",
    "            \n",
    "target_ij = np.vstack((target_i, target_j))\n",
    "            \n",
    "# learning the plane\n",
    "\n",
    "XX = np.matmul(Xtilde_ij.T, Xtilde_ij)\n",
    "XT = np.matmul(Xtilde_ij.T, target_ij)\n",
    "\n",
    "beta_ij = np.matmul(inv(XX), XT)\n",
    "\n",
    "prediction_ij = np.matmul(XtildePredict, beta_ij)\n",
    "\n",
    "target_final_ij = np.zeros((len(prediction_ij),1))\n",
    "Test_indices_i = np.squeeze(np.where(prediction_ij>0))  \n",
    "target_final_ij[Test_indices_i] = i\n",
    "Test_indices_j = np.squeeze(np.where(prediction_ij<=0))  \n",
    "target_final_ij[Test_indices_j] = j\n",
    "\n",
    "PredictionMatrix[:,0] = np.squeeze(target_final_ij)\n",
    "\n"
   ]
  },
  {
   "cell_type": "code",
   "execution_count": 71,
   "metadata": {},
   "outputs": [
    {
     "data": {
      "image/png": "[encoded data removed]",
      "text/plain": [
       "<Figure size 432x288 with 1 Axes>"
      ]
     },
     "metadata": {
      "needs_background": "light"
     },
     "output_type": "display_data"
    }
   ],
   "source": [
    "\n",
    "plt.scatter(X[:,0], X[:,1], c = y)\n",
    "plt.contourf(xx1, xx2, np.reshape(target_final_ij,np.shape(xx1)), alpha = .3)\n",
    "plt.show()"
   ]
  },
  {
   "cell_type": "code",
   "execution_count": 40,
   "metadata": {},
   "outputs": [
    {
     "name": "stdout",
     "output_type": "stream",
     "text": [
      "[[0.37376381]\n",
      " [0.38313469]\n",
      " [0.39250557]\n",
      " [0.40187645]\n",
      " [0.41124733]\n",
      " [0.42061821]\n",
      " [0.42998909]\n",
      " [0.43935997]\n",
      " [0.44873085]\n",
      " [0.45810173]\n",
      " [0.46747262]\n",
      " [0.4768435 ]\n",
      " [0.48621438]\n",
      " [0.49558526]\n",
      " [0.50495614]\n",
      " [0.51432702]\n",
      " [0.5236979 ]\n",
      " [0.53306878]\n",
      " [0.54243966]\n",
      " [0.55181054]\n",
      " [0.56118142]\n",
      " [0.5705523 ]\n",
      " [0.57992318]\n",
      " [0.58929406]\n",
      " [0.59866494]\n",
      " [0.60803582]\n",
      " [0.6174067 ]\n",
      " [0.62677758]\n",
      " [0.63614846]\n",
      " [0.64551934]\n",
      " [0.65489022]\n",
      " [0.6642611 ]\n",
      " [0.67363198]\n",
      " [0.68300286]\n",
      " [0.69237374]\n",
      " [0.70174462]\n",
      " [0.7111155 ]\n",
      " [0.72048638]\n",
      " [0.72985726]\n",
      " [0.73922814]\n",
      " [0.74859902]\n",
      " [0.7579699 ]\n",
      " [0.76734078]\n",
      " [0.77671166]\n",
      " [0.78608254]\n",
      " [0.79545342]\n",
      " [0.8048243 ]\n",
      " [0.81419518]\n",
      " [0.82356606]\n",
      " [0.83293694]\n",
      " [0.84230783]\n",
      " [0.85167871]\n",
      " [0.86104959]\n",
      " [0.87042047]\n",
      " [0.87979135]\n",
      " [0.88916223]\n",
      " [0.89853311]\n",
      " [0.90790399]\n",
      " [0.91727487]\n",
      " [0.92664575]\n",
      " [0.93601663]\n",
      " [0.94538751]\n",
      " [0.95475839]\n",
      " [0.96412927]\n",
      " [0.97350015]\n",
      " [0.98287103]\n",
      " [0.99224191]\n",
      " [1.00161279]\n",
      " [1.01098367]\n",
      " [1.02035455]\n",
      " [1.02972543]\n",
      " [1.03909631]\n",
      " [1.04846719]\n",
      " [1.05783807]\n",
      " [1.06720895]\n",
      " [1.07657983]\n",
      " [1.08595071]\n",
      " [1.09532159]\n",
      " [1.10469247]\n",
      " [1.11406335]\n",
      " [1.12343423]\n",
      " [1.13280511]\n",
      " [1.14217599]\n",
      " [1.15154687]\n",
      " [1.16091775]\n",
      " [1.17028863]\n",
      " [1.17965951]\n",
      " [1.18903039]\n",
      " [1.19840127]\n",
      " [1.20777215]\n",
      " [1.21714303]\n",
      " [1.22651392]\n",
      " [1.2358848 ]\n",
      " [1.24525568]\n",
      " [1.25462656]\n",
      " [1.26399744]\n",
      " [1.27336832]\n",
      " [1.2827392 ]\n",
      " [1.29211008]\n",
      " [1.30148096]]\n"
     ]
    }
   ],
   "source": [
    "print(prediction_ij[:100])"
   ]
  },
  {
   "cell_type": "code",
   "execution_count": null,
   "metadata": {},
   "outputs": [],
   "source": [
    "# short demo \n",
    "\n",
    "points_class0 = [np.ones((10,1)), np.linspace()]\n",
    "\n",
    "\n",
    "\n"
   ]
  },
  {
   "cell_type": "code",
   "execution_count": 20,
   "metadata": {},
   "outputs": [
    {
     "name": "stdout",
     "output_type": "stream",
     "text": [
      "0\n"
     ]
    }
   ],
   "source": [
    "v = np.array([1,2,3,4])\n",
    "indices = np.squeeze(np.where(v==1))\n",
    "print(indices)"
   ]
  },
  {
   "cell_type": "code",
   "execution_count": 9,
   "metadata": {},
   "outputs": [
    {
     "name": "stdout",
     "output_type": "stream",
     "text": [
      "(2\n"
     ]
    }
   ],
   "source": [
    "print('('+str(2))\n"
   ]
  }
 ],
 "metadata": {
  "kernelspec": {
   "display_name": "Python 3",
   "language": "python",
   "name": "python3"
  },
  "language_info": {
   "codemirror_mode": {
    "name": "ipython",
    "version": 3
   },
   "file_extension": ".py",
   "mimetype": "text/x-python",
   "name": "python",
   "nbconvert_exporter": "python",
   "pygments_lexer": "ipython3",
   "version": "3.8.5"
  }
 },
 "nbformat": 4,
 "nbformat_minor": 4
}
